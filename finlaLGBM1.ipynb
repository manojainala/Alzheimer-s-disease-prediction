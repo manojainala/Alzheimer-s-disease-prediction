{
 "cells": [
  {
   "cell_type": "code",
   "execution_count": 22,
   "metadata": {},
   "outputs": [],
   "source": [
    "import pandas as pd\n",
    "import numpy as np\n",
    "import os"
   ]
  },
  {
   "cell_type": "code",
   "execution_count": 23,
   "metadata": {},
   "outputs": [],
   "source": [
    "from sklearn import datasets\n",
    "from sklearn import metrics\n",
    "from sklearn.model_selection import train_test_split\n",
    "import matplotlib.pyplot as plt\n",
    "import seaborn as sns"
   ]
  },
  {
   "cell_type": "code",
   "execution_count": 24,
   "metadata": {},
   "outputs": [
    {
     "data": {
      "text/html": [
       "<div>\n",
       "<style scoped>\n",
       "    .dataframe tbody tr th:only-of-type {\n",
       "        vertical-align: middle;\n",
       "    }\n",
       "\n",
       "    .dataframe tbody tr th {\n",
       "        vertical-align: top;\n",
       "    }\n",
       "\n",
       "    .dataframe thead th {\n",
       "        text-align: right;\n",
       "    }\n",
       "</style>\n",
       "<table border=\"1\" class=\"dataframe\">\n",
       "  <thead>\n",
       "    <tr style=\"text-align: right;\">\n",
       "      <th></th>\n",
       "      <th>Unnamed: 0</th>\n",
       "      <th>NACCID</th>\n",
       "      <th>HISPORX</th>\n",
       "      <th>RACE</th>\n",
       "      <th>BIRTHYR</th>\n",
       "      <th>SEX</th>\n",
       "      <th>HANDED</th>\n",
       "      <th>DIABETES</th>\n",
       "      <th>HYPERTEN</th>\n",
       "      <th>HYPERCHO</th>\n",
       "      <th>...</th>\n",
       "      <th>TOBAC30</th>\n",
       "      <th>TOBAC100</th>\n",
       "      <th>SMOKYRS</th>\n",
       "      <th>CVHATT</th>\n",
       "      <th>NACCMMSE</th>\n",
       "      <th>NACCAGEB</th>\n",
       "      <th>NACCBMI</th>\n",
       "      <th>Impairment</th>\n",
       "      <th>CANCER</th>\n",
       "      <th>NACCALZD</th>\n",
       "    </tr>\n",
       "  </thead>\n",
       "  <tbody>\n",
       "    <tr>\n",
       "      <td>0</td>\n",
       "      <td>0</td>\n",
       "      <td>NACC000385</td>\n",
       "      <td>0</td>\n",
       "      <td>1</td>\n",
       "      <td>1926</td>\n",
       "      <td>1</td>\n",
       "      <td>2</td>\n",
       "      <td>0</td>\n",
       "      <td>1</td>\n",
       "      <td>1</td>\n",
       "      <td>...</td>\n",
       "      <td>0</td>\n",
       "      <td>1</td>\n",
       "      <td>15</td>\n",
       "      <td>1</td>\n",
       "      <td>24</td>\n",
       "      <td>80</td>\n",
       "      <td>8.799999</td>\n",
       "      <td>4</td>\n",
       "      <td>0</td>\n",
       "      <td>1</td>\n",
       "    </tr>\n",
       "    <tr>\n",
       "      <td>1</td>\n",
       "      <td>1</td>\n",
       "      <td>NACC000385</td>\n",
       "      <td>0</td>\n",
       "      <td>1</td>\n",
       "      <td>1926</td>\n",
       "      <td>1</td>\n",
       "      <td>2</td>\n",
       "      <td>0</td>\n",
       "      <td>1</td>\n",
       "      <td>1</td>\n",
       "      <td>...</td>\n",
       "      <td>0</td>\n",
       "      <td>1</td>\n",
       "      <td>20</td>\n",
       "      <td>1</td>\n",
       "      <td>22</td>\n",
       "      <td>80</td>\n",
       "      <td>29.000000</td>\n",
       "      <td>4</td>\n",
       "      <td>0</td>\n",
       "      <td>1</td>\n",
       "    </tr>\n",
       "    <tr>\n",
       "      <td>2</td>\n",
       "      <td>2</td>\n",
       "      <td>NACC000385</td>\n",
       "      <td>0</td>\n",
       "      <td>1</td>\n",
       "      <td>1926</td>\n",
       "      <td>1</td>\n",
       "      <td>2</td>\n",
       "      <td>0</td>\n",
       "      <td>1</td>\n",
       "      <td>1</td>\n",
       "      <td>...</td>\n",
       "      <td>0</td>\n",
       "      <td>1</td>\n",
       "      <td>17</td>\n",
       "      <td>1</td>\n",
       "      <td>21</td>\n",
       "      <td>80</td>\n",
       "      <td>29.000000</td>\n",
       "      <td>4</td>\n",
       "      <td>0</td>\n",
       "      <td>1</td>\n",
       "    </tr>\n",
       "    <tr>\n",
       "      <td>3</td>\n",
       "      <td>3</td>\n",
       "      <td>NACC000385</td>\n",
       "      <td>0</td>\n",
       "      <td>1</td>\n",
       "      <td>1926</td>\n",
       "      <td>1</td>\n",
       "      <td>2</td>\n",
       "      <td>0</td>\n",
       "      <td>1</td>\n",
       "      <td>1</td>\n",
       "      <td>...</td>\n",
       "      <td>0</td>\n",
       "      <td>1</td>\n",
       "      <td>17</td>\n",
       "      <td>1</td>\n",
       "      <td>20</td>\n",
       "      <td>80</td>\n",
       "      <td>26.399999</td>\n",
       "      <td>4</td>\n",
       "      <td>1</td>\n",
       "      <td>1</td>\n",
       "    </tr>\n",
       "    <tr>\n",
       "      <td>4</td>\n",
       "      <td>4</td>\n",
       "      <td>NACC000385</td>\n",
       "      <td>0</td>\n",
       "      <td>1</td>\n",
       "      <td>1926</td>\n",
       "      <td>1</td>\n",
       "      <td>2</td>\n",
       "      <td>0</td>\n",
       "      <td>1</td>\n",
       "      <td>1</td>\n",
       "      <td>...</td>\n",
       "      <td>0</td>\n",
       "      <td>1</td>\n",
       "      <td>20</td>\n",
       "      <td>1</td>\n",
       "      <td>16</td>\n",
       "      <td>80</td>\n",
       "      <td>29.000000</td>\n",
       "      <td>4</td>\n",
       "      <td>1</td>\n",
       "      <td>1</td>\n",
       "    </tr>\n",
       "    <tr>\n",
       "      <td>...</td>\n",
       "      <td>...</td>\n",
       "      <td>...</td>\n",
       "      <td>...</td>\n",
       "      <td>...</td>\n",
       "      <td>...</td>\n",
       "      <td>...</td>\n",
       "      <td>...</td>\n",
       "      <td>...</td>\n",
       "      <td>...</td>\n",
       "      <td>...</td>\n",
       "      <td>...</td>\n",
       "      <td>...</td>\n",
       "      <td>...</td>\n",
       "      <td>...</td>\n",
       "      <td>...</td>\n",
       "      <td>...</td>\n",
       "      <td>...</td>\n",
       "      <td>...</td>\n",
       "      <td>...</td>\n",
       "      <td>...</td>\n",
       "      <td>...</td>\n",
       "    </tr>\n",
       "    <tr>\n",
       "      <td>121093</td>\n",
       "      <td>121093</td>\n",
       "      <td>NACC90475</td>\n",
       "      <td>0</td>\n",
       "      <td>2</td>\n",
       "      <td>1936</td>\n",
       "      <td>2</td>\n",
       "      <td>2</td>\n",
       "      <td>1</td>\n",
       "      <td>1</td>\n",
       "      <td>1</td>\n",
       "      <td>...</td>\n",
       "      <td>0</td>\n",
       "      <td>0</td>\n",
       "      <td>0</td>\n",
       "      <td>0</td>\n",
       "      <td>25</td>\n",
       "      <td>70</td>\n",
       "      <td>8.799999</td>\n",
       "      <td>3</td>\n",
       "      <td>0</td>\n",
       "      <td>0</td>\n",
       "    </tr>\n",
       "    <tr>\n",
       "      <td>121094</td>\n",
       "      <td>121094</td>\n",
       "      <td>NACC90475</td>\n",
       "      <td>0</td>\n",
       "      <td>2</td>\n",
       "      <td>1936</td>\n",
       "      <td>2</td>\n",
       "      <td>2</td>\n",
       "      <td>1</td>\n",
       "      <td>1</td>\n",
       "      <td>1</td>\n",
       "      <td>...</td>\n",
       "      <td>0</td>\n",
       "      <td>0</td>\n",
       "      <td>0</td>\n",
       "      <td>0</td>\n",
       "      <td>26</td>\n",
       "      <td>70</td>\n",
       "      <td>8.799999</td>\n",
       "      <td>4</td>\n",
       "      <td>1</td>\n",
       "      <td>0</td>\n",
       "    </tr>\n",
       "    <tr>\n",
       "      <td>121095</td>\n",
       "      <td>12100</td>\n",
       "      <td>NACC999391</td>\n",
       "      <td>0</td>\n",
       "      <td>1</td>\n",
       "      <td>1918</td>\n",
       "      <td>1</td>\n",
       "      <td>2</td>\n",
       "      <td>0</td>\n",
       "      <td>1</td>\n",
       "      <td>1</td>\n",
       "      <td>...</td>\n",
       "      <td>0</td>\n",
       "      <td>1</td>\n",
       "      <td>40</td>\n",
       "      <td>1</td>\n",
       "      <td>28</td>\n",
       "      <td>87</td>\n",
       "      <td>26.799999</td>\n",
       "      <td>3</td>\n",
       "      <td>0</td>\n",
       "      <td>0</td>\n",
       "    </tr>\n",
       "    <tr>\n",
       "      <td>121096</td>\n",
       "      <td>12100</td>\n",
       "      <td>NACC999391</td>\n",
       "      <td>0</td>\n",
       "      <td>1</td>\n",
       "      <td>1918</td>\n",
       "      <td>1</td>\n",
       "      <td>2</td>\n",
       "      <td>0</td>\n",
       "      <td>1</td>\n",
       "      <td>1</td>\n",
       "      <td>...</td>\n",
       "      <td>0</td>\n",
       "      <td>1</td>\n",
       "      <td>40</td>\n",
       "      <td>1</td>\n",
       "      <td>28</td>\n",
       "      <td>87</td>\n",
       "      <td>27.099999</td>\n",
       "      <td>4</td>\n",
       "      <td>0</td>\n",
       "      <td>1</td>\n",
       "    </tr>\n",
       "    <tr>\n",
       "      <td>121097</td>\n",
       "      <td>12100</td>\n",
       "      <td>NACC999391</td>\n",
       "      <td>0</td>\n",
       "      <td>1</td>\n",
       "      <td>1918</td>\n",
       "      <td>1</td>\n",
       "      <td>2</td>\n",
       "      <td>0</td>\n",
       "      <td>1</td>\n",
       "      <td>1</td>\n",
       "      <td>...</td>\n",
       "      <td>0</td>\n",
       "      <td>1</td>\n",
       "      <td>40</td>\n",
       "      <td>1</td>\n",
       "      <td>27</td>\n",
       "      <td>87</td>\n",
       "      <td>25.500000</td>\n",
       "      <td>4</td>\n",
       "      <td>0</td>\n",
       "      <td>1</td>\n",
       "    </tr>\n",
       "  </tbody>\n",
       "</table>\n",
       "<p>121098 rows × 26 columns</p>\n",
       "</div>"
      ],
      "text/plain": [
       "        Unnamed: 0      NACCID  HISPORX  RACE  BIRTHYR  SEX  HANDED  DIABETES  \\\n",
       "0                0  NACC000385        0     1     1926    1       2         0   \n",
       "1                1  NACC000385        0     1     1926    1       2         0   \n",
       "2                2  NACC000385        0     1     1926    1       2         0   \n",
       "3                3  NACC000385        0     1     1926    1       2         0   \n",
       "4                4  NACC000385        0     1     1926    1       2         0   \n",
       "...            ...         ...      ...   ...      ...  ...     ...       ...   \n",
       "121093      121093   NACC90475        0     2     1936    2       2         1   \n",
       "121094      121094   NACC90475        0     2     1936    2       2         1   \n",
       "121095       12100  NACC999391        0     1     1918    1       2         0   \n",
       "121096       12100  NACC999391        0     1     1918    1       2         0   \n",
       "121097       12100  NACC999391        0     1     1918    1       2         0   \n",
       "\n",
       "        HYPERTEN  HYPERCHO  ...  TOBAC30  TOBAC100  SMOKYRS  CVHATT  NACCMMSE  \\\n",
       "0              1         1  ...        0         1       15       1        24   \n",
       "1              1         1  ...        0         1       20       1        22   \n",
       "2              1         1  ...        0         1       17       1        21   \n",
       "3              1         1  ...        0         1       17       1        20   \n",
       "4              1         1  ...        0         1       20       1        16   \n",
       "...          ...       ...  ...      ...       ...      ...     ...       ...   \n",
       "121093         1         1  ...        0         0        0       0        25   \n",
       "121094         1         1  ...        0         0        0       0        26   \n",
       "121095         1         1  ...        0         1       40       1        28   \n",
       "121096         1         1  ...        0         1       40       1        28   \n",
       "121097         1         1  ...        0         1       40       1        27   \n",
       "\n",
       "        NACCAGEB    NACCBMI  Impairment  CANCER  NACCALZD  \n",
       "0             80   8.799999           4       0         1  \n",
       "1             80  29.000000           4       0         1  \n",
       "2             80  29.000000           4       0         1  \n",
       "3             80  26.399999           4       1         1  \n",
       "4             80  29.000000           4       1         1  \n",
       "...          ...        ...         ...     ...       ...  \n",
       "121093        70   8.799999           3       0         0  \n",
       "121094        70   8.799999           4       1         0  \n",
       "121095        87  26.799999           3       0         0  \n",
       "121096        87  27.099999           4       0         1  \n",
       "121097        87  25.500000           4       0         1  \n",
       "\n",
       "[121098 rows x 26 columns]"
      ]
     },
     "execution_count": 24,
     "metadata": {},
     "output_type": "execute_result"
    }
   ],
   "source": [
    "df = pd.read_csv(\"manoz.csv\")\n",
    "df"
   ]
  },
  {
   "cell_type": "code",
   "execution_count": 25,
   "metadata": {},
   "outputs": [],
   "source": [
    "X=df[['HISPORX','SEX','DIABETES','HYPERTEN','HYPERCHO','TOBAC30','ALCOHOL','NACCMMSE','NACCALZD','CDRGLOB','CVHATT','CANCER']]\n",
    "y=df['Impairment']"
   ]
  },
  {
   "cell_type": "code",
   "execution_count": 26,
   "metadata": {},
   "outputs": [],
   "source": [
    "import lightgbm as ltb"
   ]
  },
  {
   "cell_type": "code",
   "execution_count": 27,
   "metadata": {},
   "outputs": [],
   "source": [
    "X_train, X_test, y_train, y_test = train_test_split(X, y, test_size=0.25)"
   ]
  },
  {
   "cell_type": "code",
   "execution_count": 28,
   "metadata": {},
   "outputs": [],
   "source": [
    "train_set = ltb.Dataset(X_train, y_train)\n",
    "valid_set = ltb.Dataset(X_test, y_test)"
   ]
  },
  {
   "cell_type": "code",
   "execution_count": 29,
   "metadata": {},
   "outputs": [
    {
     "name": "stdout",
     "output_type": "stream",
     "text": [
      "Training until validation scores don't improve for 200 rounds\n",
      "[100]\ttraining's multi_error: 0.109179\tvalid_1's multi_error: 0.110454\n",
      "[200]\ttraining's multi_error: 0.108816\tvalid_1's multi_error: 0.109562\n",
      "[300]\ttraining's multi_error: 0.108376\tvalid_1's multi_error: 0.109727\n",
      "Early stopping, best iteration is:\n",
      "[160]\ttraining's multi_error: 0.108838\tvalid_1's multi_error: 0.109496\n"
     ]
    },
    {
     "data": {
      "text/plain": [
       "<lightgbm.basic.Booster at 0x7f05895e3f90>"
      ]
     },
     "execution_count": 29,
     "metadata": {},
     "output_type": "execute_result"
    }
   ],
   "source": [
    "params = { \n",
    "        \"objective\" : \"multiclass\", \n",
    "        \"metric\" : \"multi_error\",  \n",
    "        \"learning_rate\" : 0.03,\n",
    "        'num_class':5\n",
    "}\n",
    "evals_result = {}  # to record eval results for plotting\n",
    "\n",
    "model = ltb.train(  params, \n",
    "                    train_set = train_set, \n",
    "                    num_boost_round=10000, \n",
    "                    early_stopping_rounds=200, \n",
    "                    verbose_eval=100, \n",
    "                    evals_result=evals_result,\n",
    "                    valid_sets=[train_set,valid_set]\n",
    "                  )\n",
    "model.save_model('model.txt')"
   ]
  },
  {
   "cell_type": "code",
   "execution_count": 30,
   "metadata": {},
   "outputs": [],
   "source": [
    "import matplotlib.pyplot as plt"
   ]
  },
  {
   "cell_type": "code",
   "execution_count": 31,
   "metadata": {},
   "outputs": [],
   "source": [
    "features_label = X_train.columns\n",
    "featureImp = list(model.feature_importance())\n",
    "featureImp, features_label = zip(*sorted(zip(featureImp, features_label)))\n",
    "with open(\"FeatureImportance.txt\", \"w\") as text_file:\n",
    "    for i in range(len(featureImp)):\n",
    "        print(f\"{features_label[i]} =  {featureImp[i]}\", file=text_file)"
   ]
  },
  {
   "cell_type": "code",
   "execution_count": 32,
   "metadata": {},
   "outputs": [
    {
     "name": "stdout",
     "output_type": "stream",
     "text": [
      "Plotting metrics recorded during training...\n"
     ]
    },
    {
     "data": {
      "image/png": "[encoded data removed]",
      "text/plain": [
       "<Figure size 432x288 with 1 Axes>"
      ]
     },
     "metadata": {
      "needs_background": "light"
     },
     "output_type": "display_data"
    },
    {
     "name": "stdout",
     "output_type": "stream",
     "text": [
      "Plotting feature importances...\n"
     ]
    },
    {
     "data": {
      "text/plain": [
       "<Figure size 14400x14400 with 0 Axes>"
      ]
     },
     "metadata": {},
     "output_type": "display_data"
    },
    {
     "data": {
      "image/png": "[encoded data removed]",
      "text/plain": [
       "<Figure size 432x288 with 1 Axes>"
      ]
     },
     "metadata": {
      "needs_background": "light"
     },
     "output_type": "display_data"
    }
   ],
   "source": [
    "print('Plotting metrics recorded during training...')\n",
    "ax = ltb.plot_metric(evals_result, metric='multi_error')\n",
    "plt.show()\n",
    "plt.figure(figsize=(200,200))\n",
    "print('Plotting feature importances...')\n",
    "ax = ltb.plot_importance(model, max_num_features=15)\n",
    "plt.show()"
   ]
  },
  {
   "cell_type": "code",
   "execution_count": 33,
   "metadata": {},
   "outputs": [
    {
     "name": "stdout",
     "output_type": "stream",
     "text": [
      "0.890503715937242\n"
     ]
    }
   ],
   "source": [
    "from sklearn.metrics import accuracy_score\n",
    "pred = model.predict(X_test)\n",
    "pred = np.argmax(pred,axis=1)\n",
    "print(accuracy_score(y_test, pred))"
   ]
  },
  {
   "cell_type": "code",
   "execution_count": 36,
   "metadata": {},
   "outputs": [],
   "source": [
    "# df['NACCUDSD'].unique()"
   ]
  },
  {
   "cell_type": "code",
   "execution_count": 35,
   "metadata": {},
   "outputs": [
    {
     "data": {
      "text/plain": [
       "array([ 0,  1,  2,  3,  4,  5,  6,  7,  8,  9, 10, 11, 12, 13, 14, 15, 16,\n",
       "       17, 18, 19, 20, 21, 22, 23, 24, 25, 26, 27])"
      ]
     },
     "execution_count": 35,
     "metadata": {},
     "output_type": "execute_result"
    }
   ],
   "source": [
    "df['HISPORX'].unique()"
   ]
  },
  {
   "cell_type": "code",
   "execution_count": null,
   "metadata": {},
   "outputs": [],
   "source": []
  }
 ],
 "metadata": {
  "kernelspec": {
   "display_name": "Python 3",
   "language": "python",
   "name": "python3"
  },
  "language_info": {
   "codemirror_mode": {
    "name": "ipython",
    "version": 3
   },
   "file_extension": ".py",
   "mimetype": "text/x-python",
   "name": "python",
   "nbconvert_exporter": "python",
   "pygments_lexer": "ipython3",
   "version": "3.7.4"
  }
 },
 "nbformat": 4,
 "nbformat_minor": 2
}
